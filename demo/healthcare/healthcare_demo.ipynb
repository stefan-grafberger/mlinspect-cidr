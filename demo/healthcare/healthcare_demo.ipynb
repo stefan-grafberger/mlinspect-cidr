{
 "cells": [
  {
   "cell_type": "code",
   "execution_count": 8,
   "metadata": {},
   "outputs": [],
   "source": [
    "import os\n",
    "import matplotlib.pyplot as plt\n",
    "\n",
    "from demo.healthcare.histogram_inspection import HistogramInspection\n",
    "from demo.healthcare.missing_embeddings_inspection import MissingEmbeddingInspection\n",
    "from demo.healthcare.lineage_demo_inspection import LineageDemoInspection\n",
    "from mlinspect.inspections.materialize_first_rows_inspection import MaterializeFirstRowsInspection\n",
    "from mlinspect.pipeline_inspector import PipelineInspector\n",
    "from mlinspect.visualisation import save_fig_to_path\n",
    "from mlinspect.utils import get_project_root\n",
    "from mlinspect.instrumentation.dag_node import OperatorType\n",
    "\n",
    "import warnings\n",
    "warnings.filterwarnings('ignore')"
   ]
  },
  {
   "cell_type": "code",
   "execution_count": null,
   "metadata": {},
   "outputs": [
    {
     "name": "stdout",
     "output_type": "stream",
     "text": [
      "/Users/stefangrafberger/Documents/uni/master-thesis/mlinspect/demo/healthcare/healthcare.py\n"
     ]
    }
   ],
   "source": [
    "HEALTHCARE_FILE_PY = os.path.join(str(get_project_root()), \"demo\", \"healthcare\", \"healthcare.py\")\n",
    "print(HEALTHCARE_FILE_PY)\n",
    "\n",
    "inspection_result = PipelineInspector\\\n",
    "    .on_pipeline_from_py_file(HEALTHCARE_FILE_PY) \\\n",
    "    .add_inspection(HistogramInspection()) \\\n",
    "    .add_inspection(MissingEmbeddingInspection()) \\\n",
    "    .add_inspection(LineageDemoInspection(5)) \\\n",
    "    .add_inspection(MaterializeFirstRowsInspection(5)) \\\n",
    "    .execute()\n",
    "extracted_dag = inspection_result.dag\n",
    "inspection_results = inspection_result.analyzer_to_annotations\n",
    "\n",
    "filename = os.path.join(str(get_project_root()), \"demo\", \"healthcare\", \"healthcare.png\")\n",
    "save_fig_to_path(extracted_dag, filename)"
   ]
  },
  {
   "cell_type": "code",
   "execution_count": null,
   "metadata": {},
   "outputs": [],
   "source": [
    "from IPython.display import Image\n",
    "Image(filename=filename) "
   ]
  },
  {
   "cell_type": "code",
   "execution_count": null,
   "metadata": {},
   "outputs": [],
   "source": [
    "first_rows_inspection_result = inspection_results[MaterializeFirstRowsInspection(5)]\n",
    "\n",
    "for dag_node in extracted_dag.nodes:\n",
    "    if dag_node in first_rows_inspection_result and first_rows_inspection_result[dag_node] is not None:\n",
    "        print(dag_node.operator_type, dag_node.code_reference, dag_node.module, dag_node.description)\n",
    "        print(\"________\")\n",
    "        print(first_rows_inspection_result[dag_node])\n",
    "        print(\"\")\n",
    "        print(\"\")"
   ]
  },
  {
   "cell_type": "code",
   "execution_count": null,
   "metadata": {},
   "outputs": [],
   "source": [
    "lineage_inspection_result = inspection_results[LineageDemoInspection(5)]\n",
    "#print(lineage_inspection_result)\n",
    "for dag_node in extracted_dag.nodes:\n",
    "    if dag_node in lineage_inspection_result: #and lineage_inspection_result[dag_node] is not None:\n",
    "        print(dag_node.operator_type, dag_node.code_reference, dag_node.module, dag_node.description)\n",
    "        print(\"________\")\n",
    "        print(lineage_inspection_result[dag_node])\n",
    "        print(\"\")\n",
    "        print(\"\")"
   ]
  },
  {
   "cell_type": "code",
   "execution_count": null,
   "metadata": {},
   "outputs": [],
   "source": [
    "embedding_inspection_result = inspection_results[MissingEmbeddingInspection()]\n",
    "assert len(embedding_inspection_result) == 33\n",
    "\n",
    "for dag_node in extracted_dag.nodes:\n",
    "    if dag_node in embedding_inspection_result and embedding_inspection_result[dag_node] is not None:\n",
    "        print(dag_node.operator_type, dag_node.code_reference, dag_node.module, dag_node.description)\n",
    "        print(\"Number of missing embeddings: {}\".format(embedding_inspection_result[dag_node]))\n",
    "        print(\"________\")\n",
    "    "
   ]
  },
  {
   "cell_type": "code",
   "execution_count": null,
   "metadata": {},
   "outputs": [],
   "source": [
    "histogram_inspection_result = inspection_results[HistogramInspection()]\n",
    "\n",
    "for dag_node in extracted_dag.nodes:\n",
    "    print(dag_node.operator_type, dag_node.code_reference, dag_node.module, dag_node.description)\n",
    "    if dag_node.operator_type != OperatorType.FIT and histogram_inspection_result[dag_node]:\n",
    "        output_age_group = histogram_inspection_result[dag_node][\"age_group_counts\"]\n",
    "        if output_age_group:\n",
    "            print(\"age_group histogram\")\n",
    "            plt.bar(output_age_group.keys(), output_age_group.values())\n",
    "            plt.show()\n",
    "        output_race_group = histogram_inspection_result[dag_node][\"race_counts\"]\n",
    "        # Plotting is slow and there are a lot of different race values, so I will comment this out for now\n",
    "        if output_race_group:\n",
    "            print(\"race histogram\")\n",
    "            keys = [str(key) for key in output_race_group.keys()]\n",
    "            plt.bar(keys, output_race_group.values())\n",
    "            plt.show()\n",
    "    print(\"________\")\n",
    "    "
   ]
  },
  {
   "cell_type": "code",
   "execution_count": null,
   "metadata": {},
   "outputs": [],
   "source": []
  }
 ],
 "metadata": {
  "kernelspec": {
   "display_name": "Python 3",
   "language": "python",
   "name": "python3"
  },
  "language_info": {
   "codemirror_mode": {
    "name": "ipython",
    "version": 3
   },
   "file_extension": ".py",
   "mimetype": "text/x-python",
   "name": "python",
   "nbconvert_exporter": "python",
   "pygments_lexer": "ipython3",
   "version": "3.8.5"
  }
 },
 "nbformat": 4,
 "nbformat_minor": 4
}
