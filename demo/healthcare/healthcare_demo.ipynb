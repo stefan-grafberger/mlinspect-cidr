{
 "cells": [
  {
   "cell_type": "code",
   "execution_count": 1,
   "metadata": {},
   "outputs": [],
   "source": [
    "import os\n",
    "import matplotlib.pyplot as plt\n",
    "\n",
    "from demo.healthcare.histogram_inspection import HistogramInspection\n",
    "from demo.healthcare.missing_embeddings_inspection import MissingEmbeddingInspection\n",
    "from demo.healthcare.lineage_demo_inspection import LineageDemoInspection\n",
    "from mlinspect.inspections.materialize_first_rows_inspection import MaterializeFirstRowsInspection\n",
    "from mlinspect.pipeline_inspector import PipelineInspector\n",
    "from mlinspect.visualisation import save_fig_to_path\n",
    "from mlinspect.utils import get_project_root\n",
    "from mlinspect.instrumentation.dag_node import OperatorType\n",
    "\n",
    "import warnings\n",
    "warnings.filterwarnings('ignore')"
   ]
  },
  {
   "cell_type": "code",
   "execution_count": 2,
   "metadata": {},
   "outputs": [],
   "source": [
    "import pandas as pd\n",
    "data = pd.read_csv(os.path.join(str(get_project_root()), \"demo\", \"healthcare\", \"MOCK_DATA.csv\"), na_values='?')\n",
    "\n",
    "patients = data[['id', 'first_name', 'last_name', 'race', 'county', 'num_children', 'income', 'age_group', 'ssn']]\n",
    "patients.to_csv(os.path.join(str(get_project_root()), \"demo\", \"healthcare\", \"healthcare_patients.csv\"), index=False, na_rep='?')\n",
    "\n",
    "histories = data[['smoker', 'complications', 'ssn']]\n",
    "histories = histories.dropna(axis=0, subset=['ssn'])\n",
    "histories.to_csv(os.path.join(str(get_project_root()), \"demo\", \"healthcare\", \"healthcare_histories.csv\"), index=False, na_rep='?')"
   ]
  },
  {
   "cell_type": "markdown",
   "metadata": {},
   "source": [
    "# Overview of this example from the paper\n",
    "![overview](paper_example_image.png)"
   ]
  },
  {
   "cell_type": "markdown",
   "metadata": {},
   "source": [
    "# Add inspections and execute the pipeline\n",
    "\n",
    "The pipeline inspector returns the extracted dag and the result of our inspections. The runnable version of the example above is in the `healthcare.py` file"
   ]
  },
  {
   "cell_type": "code",
   "execution_count": null,
   "metadata": {},
   "outputs": [],
   "source": [
    "HEALTHCARE_FILE_PY = os.path.join(str(get_project_root()), \"demo\", \"healthcare\", \"healthcare.py\")\n",
    "\n",
    "inspection_result = PipelineInspector\\\n",
    "    .on_pipeline_from_py_file(HEALTHCARE_FILE_PY) \\\n",
    "    .add_inspection(HistogramInspection()) \\\n",
    "    .add_inspection(MissingEmbeddingInspection(20)) \\\n",
    "    .add_inspection(LineageDemoInspection(5)) \\\n",
    "    .add_inspection(MaterializeFirstRowsInspection(5)) \\\n",
    "    .execute()\n",
    "extracted_dag = inspection_result.dag\n",
    "inspection_results = inspection_result.inspection_to_annotations"
   ]
  },
  {
   "cell_type": "markdown",
   "metadata": {},
   "source": [
    "# Now, let's look at the extracted Dag"
   ]
  },
  {
   "cell_type": "code",
   "execution_count": null,
   "metadata": {},
   "outputs": [],
   "source": [
    "from IPython.display import Image\n",
    "\n",
    "filename = os.path.join(str(get_project_root()), \"demo\", \"healthcare\", \"healthcare.png\")\n",
    "save_fig_to_path(extracted_dag, filename)\n",
    "\n",
    "Image(filename=filename) "
   ]
  },
  {
   "cell_type": "markdown",
   "metadata": {},
   "source": [
    "# Want to know the output of some specific operator?\n",
    "We can use the `MaterializeFirstRowsInspection` to look at e.g. the output of a OneHotEncoder and the imputer right before it"
   ]
  },
  {
   "cell_type": "code",
   "execution_count": null,
   "metadata": {},
   "outputs": [],
   "source": [
    "first_rows_inspection_result = inspection_results[MaterializeFirstRowsInspection(5)]\n",
    "\n",
    "relevant_nodes = [node for node in extracted_dag.nodes if node.description in {\n",
    "    \"Imputer (SimpleImputer), Column: 'county'\", \"Categorical Encoder (OneHotEncoder), Column: 'county'\"}]\n",
    "\n",
    "for dag_node in relevant_nodes:\n",
    "    if dag_node in first_rows_inspection_result and first_rows_inspection_result[dag_node] is not None:\n",
    "        print('\\033[1m')\n",
    "        print(dag_node.operator_type, dag_node.code_reference, dag_node.module, dag_node.description, '\\033[0m')\n",
    "        row = first_rows_inspection_result[dag_node][0]\n",
    "        print(first_rows_inspection_result[dag_node])\n",
    "        print(\"\")\n",
    "        print(\"\")"
   ]
  },
  {
   "cell_type": "markdown",
   "metadata": {},
   "source": [
    "# Want to know the origin of some row in the featurized model input?\n",
    "We can use the `LineageDemoInspection` to get row-level lineage information for e.g., a featurized tuple. In practice, you probably do not want to look at the lineage information yourself, as it can get quite complicated for complex pipelines like the one in our example. In the future, we could e.g., extend the lineage inspection to take a list of lineage ids and materialize all related intermediate results in the pipeline. This way, users do not have to interpret the lineage ids themselves."
   ]
  },
  {
   "cell_type": "code",
   "execution_count": null,
   "metadata": {},
   "outputs": [],
   "source": [
    "lineage_inspection_result = inspection_results[LineageDemoInspection(5)]\n",
    "\n",
    "relevant_nodes = [node for node in extracted_dag.nodes if node.operator_type in {OperatorType.DATA_SOURCE, OperatorType.GROUP_BY_AGG, OperatorType.CONCATENATION}]\n",
    "\n",
    "#print(lineage_inspection_result)\n",
    "for dag_node in relevant_nodes:\n",
    "    if dag_node in lineage_inspection_result: #and lineage_inspection_result[dag_node] is not None:\n",
    "        print('\\033[1m')\n",
    "        print(dag_node.operator_type, dag_node.code_reference, dag_node.module, dag_node.description, '\\033[0m')\n",
    "        row = lineage_inspection_result[dag_node][0]\n",
    "        print(\"First output row:\")\n",
    "        print(\"\\033[1mLineage: \\033[0m{}\".format(row[0]))\n",
    "        print(\"\\033[1mValue: \\033[0m{}\".format(row[1]))\n",
    "        print(\"\")"
   ]
  },
  {
   "cell_type": "markdown",
   "metadata": {},
   "source": [
    "# What about issue 6? Were there missing embeddings?\n",
    "Let's look at the output from the `MissingEmbeddingInspection`"
   ]
  },
  {
   "cell_type": "code",
   "execution_count": null,
   "metadata": {},
   "outputs": [],
   "source": [
    "embedding_inspection_result = inspection_results[MissingEmbeddingInspection(20)]\n",
    "\n",
    "for dag_node in extracted_dag.nodes:\n",
    "    if dag_node in embedding_inspection_result and embedding_inspection_result[dag_node] is not None:\n",
    "        print('\\033[1m')\n",
    "        print(dag_node.operator_type, dag_node.code_reference, dag_node.module, dag_node.description, '\\033[0m')\n",
    "        row = lineage_inspection_result[dag_node][0]\n",
    "        op_result = embedding_inspection_result[dag_node]\n",
    "        print(\"Number of missing embeddings: {}\".format(op_result[\"missing_embedding_count\"]))\n",
    "        print(\"Example values with missing embeddings: {}\".format(op_result[\"missing_embeddings_examples\"]))\n",
    "    "
   ]
  },
  {
   "cell_type": "markdown",
   "metadata": {},
   "source": [
    "# We can look at how histograms of sensitive groups change after different Dag nodes\n",
    "Thanks to our annotation propagation, this works even if the group columns are projected out at some point (Issue 2)"
   ]
  },
  {
   "cell_type": "code",
   "execution_count": null,
   "metadata": {},
   "outputs": [],
   "source": [
    "histogram_inspection_result = inspection_results[HistogramInspection()]\n",
    "\n",
    "def print_dag_operator_histograms(before, after):\n",
    "    description_before = \"{}\\n{}\\n{}\\n{}\".format(before.operator_type, before.code_reference, before.module, before.description)\n",
    "    description_after = \"{}\\n{}\\n{}\\n{}\".format(after.operator_type, after.code_reference, after.module, after.description)\n",
    "\n",
    "    print(\"Age_group histogram\")\n",
    "\n",
    "    plt.subplot(1, 2, 1)\n",
    "    before_output_age_group = histogram_inspection_result[before][\"age_group_counts\"]\n",
    "    plt.bar(before_output_age_group.keys(), before_output_age_group.values())\n",
    "    plt.title=description_before\n",
    "\n",
    "    plt.subplot(1, 2, 2)\n",
    "    after_output_age_group = histogram_inspection_result[after][\"age_group_counts\"]\n",
    "    plt.bar(after_output_age_group.keys(), after_output_age_group.values())\n",
    "    plt.title=description_after\n",
    "    \n",
    "    fig = plt.gcf()\n",
    "    fig.set_size_inches(12, 4)\n",
    "    plt.show()\n",
    "    \n",
    "    print(\"Race histogram\")\n",
    "            \n",
    "    plt.subplot(1, 2, 1)        \n",
    "    before_output_race_group = histogram_inspection_result[before][\"race_counts\"]\n",
    "    keys = [str(key) for key in before_output_race_group.keys()]\n",
    "    plt.bar(keys, before_output_race_group.values())\n",
    "    plt.title=description_before\n",
    "   \n",
    "    plt.subplot(1, 2, 2)\n",
    "    after_output_race_group = histogram_inspection_result[after][\"race_counts\"]\n",
    "    keys = [str(key) for key in after_output_race_group.keys()]\n",
    "    plt.bar(keys, after_output_race_group.values())\n",
    "    plt.title=description_after\n",
    "    \n",
    "    fig = plt.gcf()\n",
    "    fig.set_size_inches(12, 4)\n",
    "    plt.show()"
   ]
  },
  {
   "cell_type": "markdown",
   "metadata": {},
   "source": [
    "## Issue 1: Join might change proportions of groups in data"
   ]
  },
  {
   "cell_type": "code",
   "execution_count": null,
   "metadata": {
    "scrolled": true
   },
   "outputs": [],
   "source": [
    "relevant_nodes = [node for node in extracted_dag.nodes if node.description in {\n",
    "    \"healthcare_patients.csv\", \"on ['ssn']\"}]\n",
    "\n",
    "print_dag_operator_histograms(relevant_nodes[0], relevant_nodes[1])"
   ]
  },
  {
   "cell_type": "markdown",
   "metadata": {},
   "source": [
    "As we can see, there are no noteworthy changes because of the join."
   ]
  },
  {
   "cell_type": "markdown",
   "metadata": {},
   "source": [
    "## Issue 3: Selection might change proportions of groups in data"
   ]
  },
  {
   "cell_type": "code",
   "execution_count": null,
   "metadata": {},
   "outputs": [],
   "source": [
    "relevant_nodes = [node for node in extracted_dag.nodes if node.description in {\n",
    "    \"to ['smoker', 'last_name', 'county', 'num_children', 'race', 'income', 'label']\", \"Select by series\"}]\n",
    "\n",
    "print_dag_operator_histograms(relevant_nodes[0], relevant_nodes[1])"
   ]
  },
  {
   "cell_type": "markdown",
   "metadata": {},
   "source": [
    "**There clearly is an issue here! A lot of values from the `race` `race3` are filtered out!**"
   ]
  },
  {
   "cell_type": "markdown",
   "metadata": {},
   "source": [
    "## Issue 4: Imputation might change proportions of groups in data"
   ]
  },
  {
   "cell_type": "code",
   "execution_count": null,
   "metadata": {},
   "outputs": [],
   "source": [
    "relevant_nodes = [node for node in extracted_dag.nodes if node.description in {\n",
    "    \"to ['race'] (ColumnTransformer)\", \"Imputer (SimpleImputer), Column: 'race'\"}]\n",
    "\n",
    "print_dag_operator_histograms(relevant_nodes[0], relevant_nodes[1])"
   ]
  },
  {
   "cell_type": "markdown",
   "metadata": {},
   "source": [
    "**The `most-frequent` imputation amplifies the existing `race` imbalance!**"
   ]
  },
  {
   "cell_type": "code",
   "execution_count": null,
   "metadata": {},
   "outputs": [],
   "source": []
  }
 ],
 "metadata": {
  "kernelspec": {
   "display_name": "Python 3",
   "language": "python",
   "name": "python3"
  },
  "language_info": {
   "codemirror_mode": {
    "name": "ipython",
    "version": 3
   },
   "file_extension": ".py",
   "mimetype": "text/x-python",
   "name": "python",
   "nbconvert_exporter": "python",
   "pygments_lexer": "ipython3",
   "version": "3.8.5"
  }
 },
 "nbformat": 4,
 "nbformat_minor": 4
}
